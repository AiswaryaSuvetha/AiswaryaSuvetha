{
  "cells": [
    {
      "cell_type": "markdown",
      "metadata": {
        "id": "view-in-github",
        "colab_type": "text"
      },
      "source": [
        "<a href=\"https://colab.research.google.com/github/AiswaryaSuvetha/AiswaryaSuvetha/blob/main/Aiswarya_Suvetha_1s_Python_Calculator.ipynb\" target=\"_parent\"><img src=\"https://colab.research.google.com/assets/colab-badge.svg\" alt=\"Open In Colab\"/></a>"
      ]
    },
    {
      "cell_type": "code",
      "execution_count": 1,
      "metadata": {
        "colab": {
          "base_uri": "https://localhost:8080/"
        },
        "id": "oxULolfjgmIO",
        "outputId": "4da02c08-802a-4c47-c0b5-3ae0fbe30e0a"
      },
      "outputs": [
        {
          "output_type": "stream",
          "name": "stdout",
          "text": [
            "Select operation:\n",
            "1. Add\n",
            "2. Subtract\n",
            "3. Multiply\n",
            "4. Divide\n",
            "5. Exit\n",
            "Enter choice(1/2/3/4/5): 3\n",
            "Enter first number: 15\n",
            "Enter second number: 2\n",
            "The result is: 30.0\n",
            "Select operation:\n",
            "1. Add\n",
            "2. Subtract\n",
            "3. Multiply\n",
            "4. Divide\n",
            "5. Exit\n",
            "Enter choice(1/2/3/4/5): 5\n",
            "Exiting the calculator.\n"
          ]
        }
      ],
      "source": [
        "# Assignment: Python Calculator\n",
        "\n",
        "# Task: Create a simple calculator that can perform basic arithmetic operations.\n",
        "\n",
        "# Step (1/1): Define Arithmetic Functions\n",
        "\n",
        "# TODO: Define a function to perform addition\n",
        "def add(x, y):\n",
        "  return x+y\n",
        "\n",
        "# TODO: Define a function to perform subtraction\n",
        "def subtract(x, y):\n",
        "  return x-y\n",
        "\n",
        "# TODO: Define a function to perform multiplication\n",
        "def multiply(x, y):\n",
        "  return x*y\n",
        "\n",
        "# TODO: Define a function to perform division\n",
        "def divide(x, y):\n",
        "  if y == 0:\n",
        "    print(\"Undefined\")\n",
        "    calculator()\n",
        "  else:\n",
        "    return x/y\n",
        "\n",
        "\n",
        "# Define the calculator function\n",
        "def calculator():\n",
        "    # Calculator program loop\n",
        "    while True:\n",
        "        # User input for operation selection\n",
        "        print(\"Select operation:\")\n",
        "        print(\"1. Add\")\n",
        "        print(\"2. Subtract\")\n",
        "        print(\"3. Multiply\")\n",
        "        print(\"4. Divide\")\n",
        "        print(\"5. Exit\")\n",
        "\n",
        "        choice = input(\"Enter choice(1/2/3/4/5): \")\n",
        "\n",
        "        # Check if user wants to exit\n",
        "        if choice == '5':\n",
        "            print(\"Exiting the calculator.\")\n",
        "            break\n",
        "\n",
        "        # Input numbers for the operation\n",
        "        num1 = float(input(\"Enter first number: \"))\n",
        "        num2 = float(input(\"Enter second number: \"))\n",
        "\n",
        "        if choice == '1':\n",
        "            print(f\"The result is: {add(num1, num2)}\")\n",
        "        elif choice == '2':\n",
        "            print(f\"The result is: {subtract(num1, num2)}\")\n",
        "        elif choice == '3':\n",
        "            print(f\"The result is: {multiply(num1, num2)}\")\n",
        "        elif choice == '4':\n",
        "            print(f\"The result is: {divide(num1, num2)}\")\n",
        "        else:\n",
        "            print(\"Invalid Input\")\n",
        "\n",
        "# Call the calculator function to run the program\n",
        "calculator()"
      ]
    }
  ],
  "metadata": {
    "colab": {
      "provenance": [],
      "include_colab_link": true
    },
    "kernelspec": {
      "display_name": "Python 3",
      "name": "python3"
    },
    "language_info": {
      "name": "python"
    }
  },
  "nbformat": 4,
  "nbformat_minor": 0
}