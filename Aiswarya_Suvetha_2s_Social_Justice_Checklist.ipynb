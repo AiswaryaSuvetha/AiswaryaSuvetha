{
  "cells": [
    {
      "cell_type": "markdown",
      "metadata": {
        "id": "view-in-github",
        "colab_type": "text"
      },
      "source": [
        "<a href=\"https://colab.research.google.com/github/AiswaryaSuvetha/AiswaryaSuvetha/blob/main/Aiswarya_Suvetha_2s_Social_Justice_Checklist.ipynb\" target=\"_parent\"><img src=\"https://colab.research.google.com/assets/colab-badge.svg\" alt=\"Open In Colab\"/></a>"
      ]
    },
    {
      "cell_type": "markdown",
      "metadata": {
        "id": "dxCGOviJFdmK"
      },
      "source": [
        "# **Week 2 Assignment: Social Justice Checklist**\n",
        "\n",
        "### **Objective**\n",
        "\n",
        "Create a command-line interface (CLI) application using Python that allows users to manage a list of social justice causes they care about. Users should be able to add, delete, and search for causes.\n"
      ]
    },
    {
      "cell_type": "markdown",
      "metadata": {
        "id": "dgt3YslCFgAN"
      },
      "source": [
        "### **Step 1: Write Pseudocode**\n",
        "\n",
        "Before coding, outline the logic in pseudocode to break down the problem:"
      ]
    },
    {
      "cell_type": "markdown",
      "metadata": {
        "id": "jnTTWJSfFhU4"
      },
      "source": [
        "1. Create a list to store social justice causes.\n",
        "2. Implement a menu system for user interaction:\n",
        "   - Option 1: Add a cause to the list.\n",
        "   - Option 2: Delete a cause from the list.\n",
        "   - Option 3: Search for a cause in the list.\n",
        "   - Option 4: Display all causes.\n",
        "   - Option 5: Exit the program.\n",
        "3. For each option, write the appropriate function:\n",
        "   - Add Cause: Append the cause to the list.\n",
        "   - Delete Cause: Remove the cause if it exists.\n",
        "   - Search Cause: Check if the cause is in the list.\n",
        "   - Display Causes: Print all causes in the list.\n",
        "4. Implement a loop to keep the program running until the user chooses to exit.\n",
        "\\```"
      ]
    },
    {
      "cell_type": "markdown",
      "metadata": {
        "id": "RDTFu1llFoE5"
      },
      "source": [
        "### **Step 2: Implement the Program in Python**\n",
        "\n",
        "Convert your pseudocode into Python code."
      ]
    },
    {
      "cell_type": "code",
      "execution_count": null,
      "metadata": {
        "colab": {
          "base_uri": "https://localhost:8080/"
        },
        "id": "cWL6L2azFWt6",
        "outputId": "85138a6d-6f39-4a22-ae31-8524eda5027c"
      },
      "outputs": [
        {
          "output_type": "stream",
          "name": "stdout",
          "text": [
            "\n",
            "Social Justice Checklist Menu\n",
            "1. Add a Cause\n",
            "2. Delete a Cause\n",
            "3. Search for a Cause\n",
            "4. Display All Causes\n",
            "5. Exit\n",
            "Choose an option (1-5): 1\n",
            "Enter the name of the cause: Climate Change \n",
            "Before adding: ['Racial equality', 'Food insecurity', 'Healthcare access', 'Gender equality']\n",
            "After adding: ['Racial equality', 'Food insecurity', 'Healthcare access', 'Gender equality', 'Climate Change ']\n",
            "\n",
            "Social Justice Checklist Menu\n",
            "1. Add a Cause\n",
            "2. Delete a Cause\n",
            "3. Search for a Cause\n",
            "4. Display All Causes\n",
            "5. Exit\n",
            "Choose an option (1-5): 2\n",
            "Enter the name of the cause to delete: Gender equality\n",
            "Before Destroy: ['Racial equality', 'Food insecurity', 'Healthcare access', 'Gender equality', 'Climate Change ']\n",
            "After Destroy: ['Racial equality', 'Food insecurity', 'Healthcare access', 'Climate Change ']\n",
            "\n",
            "Social Justice Checklist Menu\n",
            "1. Add a Cause\n",
            "2. Delete a Cause\n",
            "3. Search for a Cause\n",
            "4. Display All Causes\n",
            "5. Exit\n",
            "Choose an option (1-5): 3\n",
            "Enter the name of the cause to search: Inequality \n",
            "Inequality  is not in the list of causes.\n",
            "\n",
            "Social Justice Checklist Menu\n",
            "1. Add a Cause\n",
            "2. Delete a Cause\n",
            "3. Search for a Cause\n",
            "4. Display All Causes\n",
            "5. Exit\n",
            "Choose an option (1-5): 3\n",
            "Enter the name of the cause to search: Racial equality\n",
            "Racial equality is in the list of causes.\n",
            "\n",
            "Social Justice Checklist Menu\n",
            "1. Add a Cause\n",
            "2. Delete a Cause\n",
            "3. Search for a Cause\n",
            "4. Display All Causes\n",
            "5. Exit\n",
            "Choose an option (1-5): 4\n",
            "Racial equality\n",
            "Food insecurity\n",
            "Healthcare access\n",
            "Climate Change \n",
            "\n",
            "Social Justice Checklist Menu\n",
            "1. Add a Cause\n",
            "2. Delete a Cause\n",
            "3. Search for a Cause\n",
            "4. Display All Causes\n",
            "5. Exit\n",
            "Choose an option (1-5): 5\n",
            "Exiting the program.\n"
          ]
        }
      ],
      "source": [
        "# Initialize the list of causes\n",
        "causes = [\"Racial equality\",\"Food insecurity\",\"Healthcare access\",\"Gender equality\" ]\n",
        "\n",
        "def add_cause(cause):\n",
        "#Adds new causes to the list\n",
        "  print(\"Before adding:\",causes)\n",
        "  causes.append(cause)\n",
        "  print(\"After adding:\",causes)\n",
        "\n",
        "def delete_cause(cause):\n",
        "#deleting causes from the list\n",
        "      print(\"Before deleting:\",causes)\n",
        "      index = causes.index(cause)\n",
        "      causes.pop(index)\n",
        "      print(\"After deleting:\", causes)\n",
        "\n",
        "def search_cause(search_cause):\n",
        "#searching for causes in the list\n",
        "  if search_cause in causes:\n",
        "    print(f\"{search_cause} is in the list of causes.\")\n",
        "  else:\n",
        "    print(f\"{search_cause} is not in the list of causes.\")\n",
        "\n",
        "def display_causes():\n",
        "  #Displays all the causes\n",
        "  for i in causes:\n",
        "    print(i)\n",
        "\n",
        "\n",
        "def main():\n",
        "    while True:\n",
        "        print(\"\\nSocial Justice Checklist Menu\")\n",
        "        print(\"1. Add a Cause\")\n",
        "        print(\"2. Delete a Cause\")\n",
        "        print(\"3. Search for a Cause\")\n",
        "        print(\"4. Display All Causes\")\n",
        "        print(\"5. Exit\")\n",
        "\n",
        "        choice = input(\"Choose an option (1-5): \")\n",
        "\n",
        "        if choice == \"1\":\n",
        "            cause = input(\"Enter the name of the cause: \")\n",
        "            add_cause(cause)\n",
        "        elif choice == \"2\":\n",
        "            cause = input(\"Enter the name of the cause to delete: \")\n",
        "            delete_cause(cause)\n",
        "        elif choice == \"3\":\n",
        "            cause = input(\"Enter the name of the cause to search: \")\n",
        "            search_cause(cause)\n",
        "        elif choice == \"4\":\n",
        "            display_causes()\n",
        "        elif choice == \"5\":\n",
        "            print(\"Exiting the program.\")\n",
        "            break\n",
        "        else:\n",
        "            print(\"Invalid choice, please try again.\")\n",
        "\n",
        "if __name__ == \"__main__\":\n",
        "    main()"
      ]
    },
    {
      "cell_type": "code",
      "execution_count": null,
      "metadata": {
        "id": "OorI3UqmwmoO"
      },
      "outputs": [],
      "source": []
    }
  ],
  "metadata": {
    "colab": {
      "provenance": [],
      "include_colab_link": true
    },
    "kernelspec": {
      "display_name": "Python 3",
      "name": "python3"
    },
    "language_info": {
      "name": "python"
    }
  },
  "nbformat": 4,
  "nbformat_minor": 0
}