{
  "cells": [
    {
      "cell_type": "markdown",
      "metadata": {
        "id": "view-in-github",
        "colab_type": "text"
      },
      "source": [
        "<a href=\"https://colab.research.google.com/github/AiswaryaSuvetha/AiswaryaSuvetha/blob/main/Aiswarya_Suvetha_Cookbook_CRUD_Operations.ipynb\" target=\"_parent\"><img src=\"https://colab.research.google.com/assets/colab-badge.svg\" alt=\"Open In Colab\"/></a>"
      ]
    },
    {
      "cell_type": "markdown",
      "metadata": {
        "id": "dxCGOviJFdmK"
      },
      "source": [
        "# **Week 2 Assignment: Cookbook CRUD Operations**\n",
        "\n",
        "### **Objective**\n",
        "\n",
        "Create a command-line interface (CLI) application using Python that allows users to manage a list of recipes in a cookbook. Users should be able to add, display, update, and delete recipes.\n"
      ]
    },
    {
      "cell_type": "markdown",
      "metadata": {
        "id": "dgt3YslCFgAN"
      },
      "source": [
        "### **Step 1: Write Pseudocode**\n",
        "\n",
        "Before coding, outline the logic in pseudocode to break down the problem:"
      ]
    },
    {
      "cell_type": "markdown",
      "metadata": {
        "id": "jnTTWJSfFhU4"
      },
      "source": [
        "1. Create a list to cookbook recipes.\n",
        "2. Implement a menu system for user interaction:\n",
        "   - Option 1: Add a recipe to the list.\n",
        "   - Option 2: Read a recipe from the list.\n",
        "   - Option 3: Update a recipe in the list.\n",
        "   - Option 4: Delete a recipes from the list.\n",
        "   - Option 5: Display all recipes.\n",
        "   - Option 6: Exit the program.\n",
        "3. For each option, write the appropriate function:\n",
        "   - Add Recipe: Append the recipe to the list.\n",
        "   - Read Recipe: Print a recipe from the list.\n",
        "   - Update Recipe: Update a recipe in the list.\n",
        "   - Delete Recipe: Remove the recipe if it exists.\n",
        "   - Display All Recipes: Display all recipes in the list.\n",
        "4. Implement a loop to keep the program running until the user chooses to exit.\n",
        "\\```"
      ]
    },
    {
      "cell_type": "markdown",
      "metadata": {
        "id": "RDTFu1llFoE5"
      },
      "source": [
        "### **Step 2: Implement the Program in Python**\n",
        "\n",
        "Convert your pseudocode into Python code."
      ]
    },
    {
      "cell_type": "code",
      "execution_count": 3,
      "metadata": {
        "colab": {
          "base_uri": "https://localhost:8080/"
        },
        "id": "cWL6L2azFWt6",
        "outputId": "d4f02aca-fc8f-413a-c413-7b4cc33b492c"
      },
      "outputs": [
        {
          "output_type": "stream",
          "name": "stdout",
          "text": [
            "\n",
            "Cookbook Recipes\n",
            "1. Add a Recipe\n",
            "2. Read a Recipe\n",
            "3. Update a Recipe\n",
            "4. Delete a Recipe\n",
            "5. Display all Recipes\n",
            "6. Exit\n",
            "Choose an option (1-6): 2\n",
            "Enter the index of the recipe to read: 2\n",
            "choco_chip_cookie\n",
            "\n",
            "Cookbook Recipes\n",
            "1. Add a Recipe\n",
            "2. Read a Recipe\n",
            "3. Update a Recipe\n",
            "4. Delete a Recipe\n",
            "5. Display all Recipes\n",
            "6. Exit\n",
            "Choose an option (1-6): 2\n",
            "Enter the index of the recipe to read: 7\n",
            "Invalid index. Please enter an index between 0 and 2\n",
            "\n",
            "Cookbook Recipes\n",
            "1. Add a Recipe\n",
            "2. Read a Recipe\n",
            "3. Update a Recipe\n",
            "4. Delete a Recipe\n",
            "5. Display all Recipes\n",
            "6. Exit\n",
            "Choose an option (1-6): 5\n",
            "Croissant\n",
            "Blueberry_muffin\n",
            "choco_chip_cookie\n",
            "\n",
            "Cookbook Recipes\n",
            "1. Add a Recipe\n",
            "2. Read a Recipe\n",
            "3. Update a Recipe\n",
            "4. Delete a Recipe\n",
            "5. Display all Recipes\n",
            "6. Exit\n",
            "Choose an option (1-6): 6\n",
            "Exiting the program.\n"
          ]
        }
      ],
      "source": [
        "# Initialize the list of recipes\n",
        "cookbook = [\"Croissant\", \"Blueberry_muffin\", \"choco_chip_cookie\"]\n",
        "\n",
        "def create(recipe): # TO DO\n",
        "  #Adds new recipe to the cookbook\n",
        "  print(\"Before adding:\",cookbook)\n",
        "  cookbook.append(recipe)\n",
        "  print(\"After adding:\",cookbook)\n",
        "\n",
        "def read(index): # TO DO\n",
        "  #Read the recipe from the corresponding index\n",
        "  if 0 <= index < len(cookbook):\n",
        "    print(cookbook[index])\n",
        "  else:\n",
        "    print(\"Invalid index. Please enter an index between 0 and\", len(cookbook) - 1)\n",
        "\n",
        "def update(index, recipe): # TO DO\n",
        "  #Updates a recipe at a specific index\n",
        "  print(\"Before update:\",cookbook)\n",
        "  cookbook[int(index)] = recipe\n",
        "  print(\"After update:\",cookbook)\n",
        "\n",
        "def destroy(index): # TO DO\n",
        "  #Deletes a recipe at a specific index\n",
        "  print(\"Before Destroy:\",cookbook)\n",
        "  cookbook.pop(index)\n",
        "  print(\"After Destroy:\",cookbook)\n",
        "\n",
        "def list_all_recipes(): # TO DO\n",
        "  #Displays all recipes in the cookbook\n",
        "  for i in cookbook:\n",
        "    print(i)\n",
        "\n",
        "\n",
        "def main():\n",
        "    while True:\n",
        "        print(\"\\nCookbook Recipes\")\n",
        "        print(\"1. Add a Recipe\")\n",
        "        print(\"2. Read a Recipe\")\n",
        "        print(\"3. Update a Recipe\")\n",
        "        print(\"4. Delete a Recipe\")\n",
        "        print(\"5. Display all Recipes\")\n",
        "        print(\"6. Exit\")\n",
        "\n",
        "        choice = input(\"Choose an option (1-6): \")\n",
        "\n",
        "        if choice == \"1\":\n",
        "            recipe = input(\"Enter the name of the recipe: \")\n",
        "            create(recipe)\n",
        "        elif choice == \"2\":\n",
        "            index = input(\"Enter the index of the recipe to read: \")\n",
        "            index = int(index)\n",
        "            read(index)\n",
        "        elif choice == \"3\":\n",
        "            index = input(\"Enter the index of the recipe to update: \")\n",
        "            recipe = input(\"Enter the name of the recipe you want to update it with: \")\n",
        "            update(index, recipe)\n",
        "        elif choice == \"4\":\n",
        "            index = input(\"Enter the index of the recipe to delete: \")\n",
        "            index = int(index)\n",
        "            destroy(index)\n",
        "        elif choice == \"5\":\n",
        "            list_all_recipes()\n",
        "        elif choice == \"6\":\n",
        "            print(\"Exiting the program.\")\n",
        "            break\n",
        "        else:\n",
        "            print(\"Invalid choice, please try again.\")\n",
        "\n",
        "if __name__ == \"__main__\":\n",
        "    main()"
      ]
    },
    {
      "cell_type": "code",
      "source": [],
      "metadata": {
        "id": "OorI3UqmwmoO"
      },
      "execution_count": null,
      "outputs": []
    }
  ],
  "metadata": {
    "colab": {
      "provenance": [],
      "include_colab_link": true
    },
    "kernelspec": {
      "display_name": "Python 3",
      "name": "python3"
    },
    "language_info": {
      "name": "python"
    }
  },
  "nbformat": 4,
  "nbformat_minor": 0
}